{
 "cells": [
  {
   "cell_type": "code",
   "execution_count": 1,
   "id": "0c39d6a9-b94e-4dad-9d01-531befbd6339",
   "metadata": {},
   "outputs": [],
   "source": [
    "import pandas as pd\n",
    "import torch\n",
    "import torch.nn as nn\n",
    "import torch.nn.functional as F"
   ]
  },
  {
   "cell_type": "markdown",
   "id": "b2e3dd45-fd27-4a3e-b155-fb47f0037f16",
   "metadata": {},
   "source": [
    "## Load Stored Data"
   ]
  },
  {
   "cell_type": "code",
   "execution_count": 2,
   "id": "ee6981f2-9c84-4824-9d8c-62beb0c720a8",
   "metadata": {},
   "outputs": [],
   "source": [
    "from src.data.sets import load_sets\n",
    "X_train, y_train, X_val, y_val, X_test, y_test = load_sets(path='../data/processed/beer_type/'\n",
    "                                                          )"
   ]
  },
  {
   "cell_type": "code",
   "execution_count": 3,
   "id": "ff1df313-896f-4d86-ac7b-2927fd69a27a",
   "metadata": {},
   "outputs": [],
   "source": [
    "from src.models.pytorch import PytorchDataset\n",
    "\n",
    "train_dataset = PytorchDataset(X=X_train, y=y_train)\n",
    "val_dataset = PytorchDataset(X=X_val, y=y_val)\n",
    "test_dataset = PytorchDataset(X=X_test, y=y_test)"
   ]
  },
  {
   "cell_type": "code",
   "execution_count": 4,
   "id": "a737bfe2-5d07-4dab-a0f8-1d0225088a11",
   "metadata": {},
   "outputs": [],
   "source": [
    "# print(\"Training data batches:\")\n",
    "# for X, y in train_loader:\n",
    "#     print(X.shape, y.shape)\n",
    "    \n",
    "# print(\"\\nTest data batches:\")\n",
    "# for X, y in test_loader:\n",
    "#     print(X.shape, y.shape)"
   ]
  },
  {
   "cell_type": "markdown",
   "id": "04bb142b-276e-4d90-87d3-bb4973f4b8af",
   "metadata": {},
   "source": [
    "## Define Architecture"
   ]
  },
  {
   "cell_type": "markdown",
   "id": "5a6bbc8b-cf58-480d-adca-55211b064ee0",
   "metadata": {},
   "source": [
    "Instantiate `PytorchMultiClass` with the correct number of input feature \n",
    "and save it into a variable called `model`\n",
    "\n",
    "\n",
    "\n",
    "\n"
   ]
  },
  {
   "cell_type": "code",
   "execution_count": 5,
   "id": "f8077194-2b4d-47ce-8ab3-1361e8f637ad",
   "metadata": {},
   "outputs": [],
   "source": [
    "# Instantiate PytorchMultiClass with the correct number of input feature \n",
    "# and save it into a variable called model\n",
    "\n",
    "from src.models.pytorch import PytorchMultiClass\n",
    "\n",
    "model = PytorchMultiClass(X_train.shape[1])"
   ]
  },
  {
   "cell_type": "code",
   "execution_count": 6,
   "id": "bc03ef3c-9568-4a43-8f90-1111d5fc43b8",
   "metadata": {},
   "outputs": [
    {
     "name": "stdout",
     "output_type": "stream",
     "text": [
      "PytorchMultiClass(\n",
      "  (layer_1): Linear(in_features=7, out_features=500, bias=True)\n",
      "  (layer_out): Linear(in_features=500, out_features=103, bias=True)\n",
      ")\n"
     ]
    }
   ],
   "source": [
    "# Set model to use the device available\n",
    "from src.models.pytorch import get_device\n",
    "\n",
    "device = get_device()\n",
    "model.to(device)\n",
    "\n",
    "# Print the architecture of model\n",
    "print(model)"
   ]
  },
  {
   "cell_type": "markdown",
   "id": "939c4fd2-dae4-40cc-a470-8f5faea7fc97",
   "metadata": {},
   "source": [
    "## Train Neural Network Multi-Class Classification with Pytorch"
   ]
  },
  {
   "cell_type": "code",
   "execution_count": 7,
   "id": "35d462d1-029f-46b0-a664-aafe53d39a49",
   "metadata": {},
   "outputs": [],
   "source": [
    "#Instantiate a nn.CrossEntropyLoss() and save it into a variable called criterion\n",
    "\n",
    "criterion = nn.CrossEntropyLoss()"
   ]
  },
  {
   "cell_type": "code",
   "execution_count": 8,
   "id": "e0e6d8ae-ae9f-4696-9c4f-a813a151fa28",
   "metadata": {},
   "outputs": [],
   "source": [
    "optimizer = torch.optim.Adam(model.parameters(), lr=0.1)"
   ]
  },
  {
   "cell_type": "code",
   "execution_count": 9,
   "id": "014c279e-8ad9-413d-8d47-3af6e27c9ab9",
   "metadata": {},
   "outputs": [],
   "source": [
    "N_EPOCHS = 5\n",
    "BATCH_SIZE = 500000"
   ]
  },
  {
   "cell_type": "code",
   "execution_count": null,
   "id": "ad6a6b71-3dd6-4e74-97c8-67143e0584ce",
   "metadata": {},
   "outputs": [],
   "source": [
    "from src.models.pytorch import train_classification, test_classification\n",
    "\n",
    "for epoch in range(N_EPOCHS):\n",
    "    train_loss, train_acc = train_classification(train_dataset,\n",
    "                                                 model=model,\n",
    "                                                 criterion=criterion,\n",
    "                                                 optimizer=optimizer,\n",
    "                                                 batch_size=BATCH_SIZE,\n",
    "                                                 device=device\n",
    "                                                )\n",
    "    \n",
    "    valid_loss, valid_acc = test_classification(val_dataset,\n",
    "                                                model=model,\n",
    "                                                criterion=criterion,\n",
    "                                                batch_size=BATCH_SIZE,\n",
    "                                                device=device\n",
    "                                               )\n",
    "\n",
    "    print(f'Epoch: {epoch}')\n",
    "    print(f'\\t(train)\\t|\\tLoss: {train_loss:.4f}\\t|\\tAcc: {train_acc * 100:.1f}%')\n",
    "    print(f'\\t(valid)\\t|\\tLoss: {valid_loss:.4f}\\t|\\tAcc: {valid_acc * 100:.1f}%')"
   ]
  },
  {
   "cell_type": "code",
   "execution_count": null,
   "id": "da14beab-351c-4ce6-a2d7-622d47def42d",
   "metadata": {},
   "outputs": [],
   "source": []
  },
  {
   "cell_type": "code",
   "execution_count": null,
   "id": "0b7a215a-656a-4d9f-95cb-008c73552bd0",
   "metadata": {},
   "outputs": [],
   "source": []
  }
 ],
 "metadata": {
  "kernelspec": {
   "display_name": "Python 3 (ipykernel)",
   "language": "python",
   "name": "python3"
  },
  "language_info": {
   "codemirror_mode": {
    "name": "ipython",
    "version": 3
   },
   "file_extension": ".py",
   "mimetype": "text/x-python",
   "name": "python",
   "nbconvert_exporter": "python",
   "pygments_lexer": "ipython3",
   "version": "3.8.13"
  }
 },
 "nbformat": 4,
 "nbformat_minor": 5
}
