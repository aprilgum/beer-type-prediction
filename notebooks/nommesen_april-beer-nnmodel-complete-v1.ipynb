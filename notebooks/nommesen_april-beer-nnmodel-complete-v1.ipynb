{
 "cells": [
  {
   "cell_type": "markdown",
   "id": "71773fc0-7aed-4c0f-90ca-e35f8a0eb009",
   "metadata": {},
   "source": [
    "# Beer Prediction Full Model Process"
   ]
  },
  {
   "cell_type": "code",
   "execution_count": 1,
   "id": "5ef0a60b-d5e0-4067-877f-e34959183a9f",
   "metadata": {},
   "outputs": [],
   "source": [
    "import pandas as pd\n",
    "import numpy as np\n",
    "\n",
    "from sklearn.preprocessing import StandardScaler, LabelEncoder\n",
    "\n",
    "import torch\n",
    "import torch.nn as nn\n",
    "import torch.nn.functional as F"
   ]
  },
  {
   "cell_type": "markdown",
   "id": "9a6937ce-7c71-434b-b7ae-4a1e438ffc69",
   "metadata": {},
   "source": [
    "## Data Transformations"
   ]
  },
  {
   "cell_type": "code",
   "execution_count": 2,
   "id": "d1a4b8d3-2a04-463b-b1e4-4a7eee897048",
   "metadata": {},
   "outputs": [],
   "source": [
    "#Solution\n",
    "%load_ext autoreload\n",
    "%autoreload 2"
   ]
  },
  {
   "cell_type": "code",
   "execution_count": 3,
   "id": "7ca84cb6-e00d-40c8-a884-ed121f3704b9",
   "metadata": {},
   "outputs": [],
   "source": [
    "df_raw_beer = pd.read_csv('/wd/data/raw/beer_reviews.csv')"
   ]
  },
  {
   "cell_type": "code",
   "execution_count": 4,
   "id": "88957f94-f128-4f71-ae3a-30c99243bb45",
   "metadata": {},
   "outputs": [
    {
     "data": {
      "text/html": [
       "<div>\n",
       "<style scoped>\n",
       "    .dataframe tbody tr th:only-of-type {\n",
       "        vertical-align: middle;\n",
       "    }\n",
       "\n",
       "    .dataframe tbody tr th {\n",
       "        vertical-align: top;\n",
       "    }\n",
       "\n",
       "    .dataframe thead th {\n",
       "        text-align: right;\n",
       "    }\n",
       "</style>\n",
       "<table border=\"1\" class=\"dataframe\">\n",
       "  <thead>\n",
       "    <tr style=\"text-align: right;\">\n",
       "      <th></th>\n",
       "      <th>review_aroma</th>\n",
       "      <th>review_appearance</th>\n",
       "      <th>beer_style</th>\n",
       "      <th>review_palate</th>\n",
       "      <th>review_taste</th>\n",
       "      <th>beer_abv</th>\n",
       "    </tr>\n",
       "  </thead>\n",
       "  <tbody>\n",
       "    <tr>\n",
       "      <th>0</th>\n",
       "      <td>2.0</td>\n",
       "      <td>2.5</td>\n",
       "      <td>Hefeweizen</td>\n",
       "      <td>1.5</td>\n",
       "      <td>1.5</td>\n",
       "      <td>5.0</td>\n",
       "    </tr>\n",
       "    <tr>\n",
       "      <th>1</th>\n",
       "      <td>2.5</td>\n",
       "      <td>3.0</td>\n",
       "      <td>English Strong Ale</td>\n",
       "      <td>3.0</td>\n",
       "      <td>3.0</td>\n",
       "      <td>6.2</td>\n",
       "    </tr>\n",
       "    <tr>\n",
       "      <th>2</th>\n",
       "      <td>2.5</td>\n",
       "      <td>3.0</td>\n",
       "      <td>Foreign / Export Stout</td>\n",
       "      <td>3.0</td>\n",
       "      <td>3.0</td>\n",
       "      <td>6.5</td>\n",
       "    </tr>\n",
       "    <tr>\n",
       "      <th>3</th>\n",
       "      <td>3.0</td>\n",
       "      <td>3.5</td>\n",
       "      <td>German Pilsener</td>\n",
       "      <td>2.5</td>\n",
       "      <td>3.0</td>\n",
       "      <td>5.0</td>\n",
       "    </tr>\n",
       "    <tr>\n",
       "      <th>4</th>\n",
       "      <td>4.5</td>\n",
       "      <td>4.0</td>\n",
       "      <td>American Double / Imperial IPA</td>\n",
       "      <td>4.0</td>\n",
       "      <td>4.5</td>\n",
       "      <td>7.7</td>\n",
       "    </tr>\n",
       "  </tbody>\n",
       "</table>\n",
       "</div>"
      ],
      "text/plain": [
       "   review_aroma  review_appearance                      beer_style  \\\n",
       "0           2.0                2.5                      Hefeweizen   \n",
       "1           2.5                3.0              English Strong Ale   \n",
       "2           2.5                3.0          Foreign / Export Stout   \n",
       "3           3.0                3.5                 German Pilsener   \n",
       "4           4.5                4.0  American Double / Imperial IPA   \n",
       "\n",
       "   review_palate  review_taste  beer_abv  \n",
       "0            1.5           1.5       5.0  \n",
       "1            3.0           3.0       6.2  \n",
       "2            3.0           3.0       6.5  \n",
       "3            2.5           3.0       5.0  \n",
       "4            4.0           4.5       7.7  "
      ]
     },
     "execution_count": 4,
     "metadata": {},
     "output_type": "execute_result"
    }
   ],
   "source": [
    "df_cleaned = df_raw_beer.copy()\n",
    "df_cleaned.drop(['brewery_id',\n",
    "                 'review_profilename', \n",
    "                 'review_time',\n",
    "                 'beer_name',\n",
    "                 'beer_beerid',\n",
    "                 'review_overall', # temp exclude\n",
    "                 'brewery_name' # not include in the model\n",
    "                ], axis=1, inplace=True)\n",
    "df_cleaned.head()"
   ]
  },
  {
   "cell_type": "markdown",
   "id": "526db100-9d41-441a-8a99-27e882203ff0",
   "metadata": {},
   "source": [
    "-- # Create a numeric version of the categorical features \n",
    "\n",
    "le = LabelEncoder()\n",
    "\n",
    "cats_dict = dict(enumerate(df_cleaned.brewery_name.unique()))\n",
    "df_cleaned['brewery_name'] = le.fit_transform(df_cleaned['brewery_name'])\n",
    "df_cleaned"
   ]
  },
  {
   "cell_type": "markdown",
   "id": "9e680c39-10bc-436c-aba6-24a12150cdbc",
   "metadata": {},
   "source": [
    "-- # Standardise the numeric features \n",
    "\n",
    "num_cols = ['brewery_name',\n",
    "            'review_overall',\n",
    "            'review_aroma',\n",
    "            'review_appearance',\n",
    "            'review_palate',\n",
    "            'review_taste',\n",
    "            'beer_abv']\n",
    "\n",
    "sc = StandardScaler()\n",
    "df_cleaned[num_cols] = sc.fit_transform(df_cleaned[num_cols])\n",
    "\n",
    "df_cleaned.head()\n"
   ]
  },
  {
   "cell_type": "code",
   "execution_count": 5,
   "id": "b83857db-4843-4c42-a769-110e53b23daf",
   "metadata": {},
   "outputs": [
    {
     "data": {
      "text/html": [
       "<div>\n",
       "<style scoped>\n",
       "    .dataframe tbody tr th:only-of-type {\n",
       "        vertical-align: middle;\n",
       "    }\n",
       "\n",
       "    .dataframe tbody tr th {\n",
       "        vertical-align: top;\n",
       "    }\n",
       "\n",
       "    .dataframe thead th {\n",
       "        text-align: right;\n",
       "    }\n",
       "</style>\n",
       "<table border=\"1\" class=\"dataframe\">\n",
       "  <thead>\n",
       "    <tr style=\"text-align: right;\">\n",
       "      <th></th>\n",
       "      <th>review_aroma</th>\n",
       "      <th>review_appearance</th>\n",
       "      <th>beer_style</th>\n",
       "      <th>review_palate</th>\n",
       "      <th>review_taste</th>\n",
       "      <th>beer_abv</th>\n",
       "    </tr>\n",
       "  </thead>\n",
       "  <tbody>\n",
       "    <tr>\n",
       "      <th>0</th>\n",
       "      <td>-2.487952</td>\n",
       "      <td>-2.177663</td>\n",
       "      <td>Hefeweizen</td>\n",
       "      <td>-3.288833</td>\n",
       "      <td>-3.132454</td>\n",
       "      <td>-0.879382</td>\n",
       "    </tr>\n",
       "    <tr>\n",
       "      <th>1</th>\n",
       "      <td>-1.771225</td>\n",
       "      <td>-1.366096</td>\n",
       "      <td>English Strong Ale</td>\n",
       "      <td>-1.090123</td>\n",
       "      <td>-1.083188</td>\n",
       "      <td>-0.362703</td>\n",
       "    </tr>\n",
       "    <tr>\n",
       "      <th>2</th>\n",
       "      <td>-1.771225</td>\n",
       "      <td>-1.366096</td>\n",
       "      <td>Foreign / Export Stout</td>\n",
       "      <td>-1.090123</td>\n",
       "      <td>-1.083188</td>\n",
       "      <td>-0.233533</td>\n",
       "    </tr>\n",
       "    <tr>\n",
       "      <th>3</th>\n",
       "      <td>-1.054499</td>\n",
       "      <td>-0.554530</td>\n",
       "      <td>German Pilsener</td>\n",
       "      <td>-1.823026</td>\n",
       "      <td>-1.083188</td>\n",
       "      <td>-0.879382</td>\n",
       "    </tr>\n",
       "    <tr>\n",
       "      <th>4</th>\n",
       "      <td>1.095679</td>\n",
       "      <td>0.257037</td>\n",
       "      <td>American Double / Imperial IPA</td>\n",
       "      <td>0.375684</td>\n",
       "      <td>0.966078</td>\n",
       "      <td>0.283146</td>\n",
       "    </tr>\n",
       "  </tbody>\n",
       "</table>\n",
       "</div>"
      ],
      "text/plain": [
       "   review_aroma  review_appearance                      beer_style  \\\n",
       "0     -2.487952          -2.177663                      Hefeweizen   \n",
       "1     -1.771225          -1.366096              English Strong Ale   \n",
       "2     -1.771225          -1.366096          Foreign / Export Stout   \n",
       "3     -1.054499          -0.554530                 German Pilsener   \n",
       "4      1.095679           0.257037  American Double / Imperial IPA   \n",
       "\n",
       "   review_palate  review_taste  beer_abv  \n",
       "0      -3.288833     -3.132454 -0.879382  \n",
       "1      -1.090123     -1.083188 -0.362703  \n",
       "2      -1.090123     -1.083188 -0.233533  \n",
       "3      -1.823026     -1.083188 -0.879382  \n",
       "4       0.375684      0.966078  0.283146  "
      ]
     },
     "execution_count": 5,
     "metadata": {},
     "output_type": "execute_result"
    }
   ],
   "source": [
    "# Standardise the numeric features \n",
    "\n",
    "\n",
    "num_cols = ['review_aroma',\n",
    "            'review_appearance',\n",
    "            'review_palate',\n",
    "            'review_taste',\n",
    "            'beer_abv']\n",
    "sc = StandardScaler()\n",
    "df_cleaned[num_cols] = sc.fit_transform(df_cleaned[num_cols])\n",
    "\n",
    "df_cleaned.head()\n"
   ]
  },
  {
   "cell_type": "code",
   "execution_count": 6,
   "id": "14f2405e-c2fc-48ad-a1f7-fc4ea37ddd8f",
   "metadata": {},
   "outputs": [
    {
     "data": {
      "text/html": [
       "<div>\n",
       "<style scoped>\n",
       "    .dataframe tbody tr th:only-of-type {\n",
       "        vertical-align: middle;\n",
       "    }\n",
       "\n",
       "    .dataframe tbody tr th {\n",
       "        vertical-align: top;\n",
       "    }\n",
       "\n",
       "    .dataframe thead th {\n",
       "        text-align: right;\n",
       "    }\n",
       "</style>\n",
       "<table border=\"1\" class=\"dataframe\">\n",
       "  <thead>\n",
       "    <tr style=\"text-align: right;\">\n",
       "      <th></th>\n",
       "      <th>review_aroma</th>\n",
       "      <th>review_appearance</th>\n",
       "      <th>beer_style</th>\n",
       "      <th>review_palate</th>\n",
       "      <th>review_taste</th>\n",
       "      <th>beer_abv</th>\n",
       "    </tr>\n",
       "  </thead>\n",
       "  <tbody>\n",
       "    <tr>\n",
       "      <th>0</th>\n",
       "      <td>-2.487952</td>\n",
       "      <td>-2.177663</td>\n",
       "      <td>65</td>\n",
       "      <td>-3.288833</td>\n",
       "      <td>-3.132454</td>\n",
       "      <td>-0.879382</td>\n",
       "    </tr>\n",
       "    <tr>\n",
       "      <th>1</th>\n",
       "      <td>-1.771225</td>\n",
       "      <td>-1.366096</td>\n",
       "      <td>51</td>\n",
       "      <td>-1.090123</td>\n",
       "      <td>-1.083188</td>\n",
       "      <td>-0.362703</td>\n",
       "    </tr>\n",
       "    <tr>\n",
       "      <th>2</th>\n",
       "      <td>-1.771225</td>\n",
       "      <td>-1.366096</td>\n",
       "      <td>59</td>\n",
       "      <td>-1.090123</td>\n",
       "      <td>-1.083188</td>\n",
       "      <td>-0.233533</td>\n",
       "    </tr>\n",
       "    <tr>\n",
       "      <th>3</th>\n",
       "      <td>-1.054499</td>\n",
       "      <td>-0.554530</td>\n",
       "      <td>61</td>\n",
       "      <td>-1.823026</td>\n",
       "      <td>-1.083188</td>\n",
       "      <td>-0.879382</td>\n",
       "    </tr>\n",
       "    <tr>\n",
       "      <th>4</th>\n",
       "      <td>1.095679</td>\n",
       "      <td>0.257037</td>\n",
       "      <td>9</td>\n",
       "      <td>0.375684</td>\n",
       "      <td>0.966078</td>\n",
       "      <td>0.283146</td>\n",
       "    </tr>\n",
       "    <tr>\n",
       "      <th>...</th>\n",
       "      <td>...</td>\n",
       "      <td>...</td>\n",
       "      <td>...</td>\n",
       "      <td>...</td>\n",
       "      <td>...</td>\n",
       "      <td>...</td>\n",
       "    </tr>\n",
       "    <tr>\n",
       "      <th>1586609</th>\n",
       "      <td>0.378953</td>\n",
       "      <td>-0.554530</td>\n",
       "      <td>85</td>\n",
       "      <td>0.375684</td>\n",
       "      <td>0.282989</td>\n",
       "      <td>-0.793269</td>\n",
       "    </tr>\n",
       "    <tr>\n",
       "      <th>1586610</th>\n",
       "      <td>1.812405</td>\n",
       "      <td>-2.177663</td>\n",
       "      <td>85</td>\n",
       "      <td>-2.555929</td>\n",
       "      <td>0.282989</td>\n",
       "      <td>-0.793269</td>\n",
       "    </tr>\n",
       "    <tr>\n",
       "      <th>1586611</th>\n",
       "      <td>-0.337773</td>\n",
       "      <td>-1.366096</td>\n",
       "      <td>85</td>\n",
       "      <td>-0.357219</td>\n",
       "      <td>0.282989</td>\n",
       "      <td>-0.793269</td>\n",
       "    </tr>\n",
       "    <tr>\n",
       "      <th>1586612</th>\n",
       "      <td>1.095679</td>\n",
       "      <td>1.068603</td>\n",
       "      <td>85</td>\n",
       "      <td>1.108588</td>\n",
       "      <td>0.966078</td>\n",
       "      <td>-0.793269</td>\n",
       "    </tr>\n",
       "    <tr>\n",
       "      <th>1586613</th>\n",
       "      <td>1.095679</td>\n",
       "      <td>1.068603</td>\n",
       "      <td>85</td>\n",
       "      <td>1.108588</td>\n",
       "      <td>0.966078</td>\n",
       "      <td>-0.793269</td>\n",
       "    </tr>\n",
       "  </tbody>\n",
       "</table>\n",
       "<p>1586614 rows × 6 columns</p>\n",
       "</div>"
      ],
      "text/plain": [
       "         review_aroma  review_appearance  beer_style  review_palate  \\\n",
       "0           -2.487952          -2.177663          65      -3.288833   \n",
       "1           -1.771225          -1.366096          51      -1.090123   \n",
       "2           -1.771225          -1.366096          59      -1.090123   \n",
       "3           -1.054499          -0.554530          61      -1.823026   \n",
       "4            1.095679           0.257037           9       0.375684   \n",
       "...               ...                ...         ...            ...   \n",
       "1586609      0.378953          -0.554530          85       0.375684   \n",
       "1586610      1.812405          -2.177663          85      -2.555929   \n",
       "1586611     -0.337773          -1.366096          85      -0.357219   \n",
       "1586612      1.095679           1.068603          85       1.108588   \n",
       "1586613      1.095679           1.068603          85       1.108588   \n",
       "\n",
       "         review_taste  beer_abv  \n",
       "0           -3.132454 -0.879382  \n",
       "1           -1.083188 -0.362703  \n",
       "2           -1.083188 -0.233533  \n",
       "3           -1.083188 -0.879382  \n",
       "4            0.966078  0.283146  \n",
       "...               ...       ...  \n",
       "1586609      0.282989 -0.793269  \n",
       "1586610      0.282989 -0.793269  \n",
       "1586611      0.282989 -0.793269  \n",
       "1586612      0.966078 -0.793269  \n",
       "1586613      0.966078 -0.793269  \n",
       "\n",
       "[1586614 rows x 6 columns]"
      ]
     },
     "execution_count": 6,
     "metadata": {},
     "output_type": "execute_result"
    }
   ],
   "source": [
    "# Create a numeric (integer) version of the target variable \n",
    "\n",
    "cats_dict = dict(enumerate(df_cleaned.beer_style.unique()))\n",
    "le = LabelEncoder()\n",
    "df_cleaned['beer_style'] = le.fit_transform(df_cleaned['beer_style'])\n",
    "df_cleaned"
   ]
  },
  {
   "cell_type": "markdown",
   "id": "1f6a2ef6-b9fe-4d60-91a7-5c23e47e506d",
   "metadata": {},
   "source": [
    "## Split the data"
   ]
  },
  {
   "cell_type": "code",
   "execution_count": 7,
   "id": "d37a6589-aa07-463a-bfdf-6887daeafd62",
   "metadata": {},
   "outputs": [],
   "source": [
    "from src.data.sets import split_sets_random, save_sets\n",
    "\n",
    "# Split the data into training and testing sets with 80-20 ratio\n",
    "X_train, y_train, X_val, y_val, X_test, y_test = split_sets_random(df_cleaned,\n",
    "                                                                   target_col='beer_style',\n",
    "                                                                   test_ratio=0.2)\n"
   ]
  },
  {
   "cell_type": "code",
   "execution_count": null,
   "id": "6fd55241-c27c-4855-acb4-ac056034b31f",
   "metadata": {},
   "outputs": [],
   "source": [
    "!mkdir ../data/processed/beer_type"
   ]
  },
  {
   "cell_type": "code",
   "execution_count": 8,
   "id": "cefc3d33-a157-48a2-bf35-14f3460721c9",
   "metadata": {},
   "outputs": [],
   "source": [
    "save_sets(X_train=X_train,\n",
    "          y_train=y_train,\n",
    "          X_val=X_val,\n",
    "          y_val=y_val,\n",
    "          X_test=X_test,\n",
    "          y_test=y_test,\n",
    "          path='/wd/data/processed/beer_type/'\n",
    "         )\n",
    "\n"
   ]
  },
  {
   "cell_type": "markdown",
   "id": "d50d2540-3eed-4560-9728-d9226f816da8",
   "metadata": {},
   "source": [
    "## Load Stored Data"
   ]
  },
  {
   "cell_type": "code",
   "execution_count": 9,
   "id": "38a711c6-2355-4032-90d0-4f24f696637e",
   "metadata": {},
   "outputs": [],
   "source": [
    "# Import this class from src/models/pytorch and convert all sets to PytorchDataset\n",
    "\n",
    "from src.models.pytorch import PytorchDataset\n",
    "\n",
    "train_dataset = PytorchDataset(X=X_train, y=y_train)\n",
    "val_dataset = PytorchDataset(X=X_val, y=y_val)\n",
    "test_dataset = PytorchDataset(X=X_test, y=y_test)"
   ]
  },
  {
   "cell_type": "markdown",
   "id": "9092119a-6d1a-499a-b873-fb2c31b1c7e8",
   "metadata": {},
   "source": [
    "## Baseline Model"
   ]
  },
  {
   "cell_type": "code",
   "execution_count": 10,
   "id": "ebc22554-bb02-4fe0-93a2-6191ea29bfaa",
   "metadata": {},
   "outputs": [
    {
     "name": "stderr",
     "output_type": "stream",
     "text": [
      "/wd/src/models/null.py:43: FutureWarning: Unlike other reduction functions (e.g. `skew`, `kurtosis`), the default behavior of `mode` typically preserves the axis it acts along. In SciPy 1.11.0, this behavior will change: the default value of `keepdims` will become False, the `axis` over which the statistic is taken will be eliminated, and the value None will no longer be accepted. Set `keepdims` to True or False to avoid this warning.\n",
      "  self.pred_value = mode(y)[0][0]\n"
     ]
    }
   ],
   "source": [
    "# Import NullModel from src.models.null\n",
    "from src.models.null import NullModel\n",
    "\n",
    "baseline_model = NullModel(target_type='classification')\n",
    "y_base = baseline_model.fit_predict(y_train)"
   ]
  },
  {
   "cell_type": "code",
   "execution_count": 11,
   "id": "4c4d7637-e2dc-4863-8848-1a30746ae5e8",
   "metadata": {},
   "outputs": [
    {
     "name": "stdout",
     "output_type": "stream",
     "text": [
      "Accuracy Training: 0.0742157299405022\n",
      "F1 Training: 0.01025487603110527\n"
     ]
    }
   ],
   "source": [
    "# Import print_class_perf from src.models.performance\n",
    "from src.models.performance import print_class_perf\n",
    "\n",
    "# Print the classification metrics for this baseline model\n",
    "print_class_perf(y_base, y_train, set_name='Training', average='weighted')"
   ]
  },
  {
   "cell_type": "markdown",
   "id": "638f05ba-b852-4f79-983e-f902fa9a9554",
   "metadata": {},
   "source": [
    "## Training"
   ]
  },
  {
   "cell_type": "code",
   "execution_count": 3,
   "id": "555eee8a-9029-4eff-b66c-dabd9eb6b596",
   "metadata": {},
   "outputs": [],
   "source": [
    "import torch\n",
    "import torch.nn as nn\n",
    "import torch.nn.functional as F"
   ]
  },
  {
   "cell_type": "code",
   "execution_count": null,
   "id": "a93690ad-a0ed-4905-aa72-590aa06e78e5",
   "metadata": {},
   "outputs": [],
   "source": []
  }
 ],
 "metadata": {
  "kernelspec": {
   "display_name": "Python 3 (ipykernel)",
   "language": "python",
   "name": "python3"
  },
  "language_info": {
   "codemirror_mode": {
    "name": "ipython",
    "version": 3
   },
   "file_extension": ".py",
   "mimetype": "text/x-python",
   "name": "python",
   "nbconvert_exporter": "python",
   "pygments_lexer": "ipython3",
   "version": "3.8.13"
  }
 },
 "nbformat": 4,
 "nbformat_minor": 5
}
